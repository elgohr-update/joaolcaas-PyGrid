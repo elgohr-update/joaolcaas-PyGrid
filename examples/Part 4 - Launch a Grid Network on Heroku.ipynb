{
 "cells": [
  {
   "cell_type": "markdown",
   "metadata": {},
   "source": [
    "# Launch Grid Network on Heroku\n",
    "In this tutorial, you'll learn how to deploy a grid network on Heroku platform and then interact with it using PySyft.\n",
    "\n",
    "_WARNING: Grid nodes publish datasets online and are for EXPERIMENTAL use only. Deploy nodes at your own risk. Do not use OpenGrid with any data/models you wish to keep private._\n",
    "\n",
    "In order to run an grid network remotely you will need to run two different apps: a grid gateway and one or more grid workers. In this tutorial we will use the websocket app available [here](https://github.com/OpenMined/Grid/tree/dev/app/websocket) to start the grid workers.\n",
    "\n",
    "\n",
    "### Step 1: Download the repository\n",
    "\n",
    "```bash\n",
    "git clone https://github.com/OpenMined/PyGrid/\n",
    "```\n",
    "\n",
    "\n",
    "### Step 2: Make grid importable\n",
    "\n",
    "Install grid as a python package\n",
    "\n",
    "```bash\n",
    "cd PyGrid\n",
    "python setup.py install (or python setup.py develop)\n",
    "```"
   ]
  },
  {
   "cell_type": "markdown",
   "metadata": {},
   "source": [
    "### Step 3: Use Grid Library to Perform Deployment"
   ]
  },
  {
   "cell_type": "markdown",
   "metadata": {},
   "source": [
    "#### Import dependencies"
   ]
  },
  {
   "cell_type": "code",
   "execution_count": 3,
   "metadata": {},
   "outputs": [],
   "source": [
    "import grid as gr\n",
    "import syft as sy\n",
    "import torch as th\n",
    "import torch.nn.functional as F\n",
    "\n",
    "\n",
    "from grid.deploy import HerokuGatewayDeployment, HerokuNodeDeployment\n",
    "hook = sy.TorchHook(th)"
   ]
  },
  {
   "cell_type": "markdown",
   "metadata": {},
   "source": [
    "#### Setup gateway's environment deploy configs"
   ]
  },
  {
   "cell_type": "code",
   "execution_count": 4,
   "metadata": {},
   "outputs": [],
   "source": [
    "gateway_url_field = \"opengridgateway\"\n",
    "# Set environment variables\n",
    "environment = { \"NUM_REPLICAS\" : \"1\",\n",
    "                \"SECRET_KEY\" : \"secretneededhere\" }\n",
    "\n",
    "gateway_component = HerokuGatewayDeployment(gateway_url_field,env_vars=environment,branch=\"add_gateway_persistence\")"
   ]
  },
  {
   "cell_type": "markdown",
   "metadata": {},
   "source": [
    "#### Perform gateway deployment"
   ]
  },
  {
   "cell_type": "code",
   "execution_count": 4,
   "metadata": {},
   "outputs": [
    {
     "name": "stdout",
     "output_type": "stream",
     "text": [
      "Step 0: Checking Dependencies\n",
      "\tChecking for git dependency...DONE!\n",
      "\tChecking for heroku --version dependency...DONE!\n",
      "\tChecking for pip dependency...DONE!\n",
      "\tChecking to see if heroku is logged in...DONE!\n",
      "\n",
      "Step 1: Making sure app name 'opengridgateway' is available\n",
      "\t['https://opengridgateway.herokuapp.com/ | https://git.heroku.com/opengridgateway.git\\n']\n",
      "\n",
      "Step 3: Cleaning up heroku check ...\n",
      "\n",
      "Step 4: cleaning up git...\n",
      "\t\n",
      "Step 5: cloning heroku app code from Github...\n",
      "\t\n",
      "Step 6: copying app code from cloned repo...\n",
      "\t\n",
      "Step 7: removing the rest of the cloned code...\n",
      "\t\n",
      "Step 8: Initializing new github (for Heroku)...\n",
      "\tInitialized empty Git repository in /home/ionesio/workspace/notebooks/PyGrid/examples/tmp/.git/\n",
      "\t\n",
      "Step 9: Adding files to heroku github...\n",
      "\t\n",
      "Step 10: Committing files to heroku github...\n",
      "\t[master (root-commit) 7b9f7bd] init\n",
      "\t 10 files changed, 438 insertions(+)\n",
      "\t create mode 100644 Dockerfile\n",
      "\t create mode 100644 Procfile\n",
      "\t create mode 100644 app/__init__.py\n",
      "\t create mode 100644 app/main/__init__.py\n",
      "\t create mode 100644 app/main/persistence/manager.py\n",
      "\t create mode 100644 app/main/persistence/models.py\n",
      "\t create mode 100644 app/main/routes.py\n",
      "\t create mode 100644 app/templates/index.html\n",
      "\t create mode 100644 gateway.py\n",
      "\t create mode 100644 requirements.txt\n",
      "\t\n",
      "\n",
      "Step 11: Pushing code to Heroku (this can take take a few seconds)......\n",
      "\thttps://opengridgateway.herokuapp.com/ | https://git.heroku.com/opengridgateway.git\n",
      "\t\n",
      "Step 12: Creating Postgres database... (this can take a few seconds)...\n",
      "\tDatabase has been created and is available\n",
      "\t ! This database is empty. If upgrading, you can transfer\n",
      "\t ! data from another database with pg:copy\n",
      "\tCreated postgresql-deep-41308 as DATABASE_URL\n",
      "\tUse heroku addons:docs heroku-postgresql to view documentation\n",
      "\t\n",
      "Setting environment variable: ...\n",
      "\tNUM_REPLICAS: 1\n",
      "\t\n",
      "Setting environment variable: ...\n",
      "\tSECRET_KEY: secretneededhere\n",
      "\t\n",
      "Step 13: Pushing code to Heroku (this can take take a few minutes - if you're running this in a Jupyter Notebook you can watch progress in the notebook server terminal)......\n",
      "\t\n",
      "Step 14: Cleaning up!...\n",
      "\t\n",
      "SUCCESS: You can now connect to your app at https://opengridgateway.herokuapp.com\n"
     ]
    },
    {
     "data": {
      "text/plain": [
       "'https://opengridgateway.herokuapp.com'"
      ]
     },
     "execution_count": 4,
     "metadata": {},
     "output_type": "execute_result"
    }
   ],
   "source": [
    "gateway_component.deploy()"
   ]
  },
  {
   "cell_type": "markdown",
   "metadata": {},
   "source": [
    "#### Perform nodes deployment"
   ]
  },
  {
   "cell_type": "code",
   "execution_count": 11,
   "metadata": {},
   "outputs": [
    {
     "name": "stdout",
     "output_type": "stream",
     "text": [
      "Step 0: Checking Dependencies\n",
      "\tChecking for git dependency...DONE!\n",
      "\tChecking for heroku --version dependency...DONE!\n",
      "\tChecking for pip dependency...DONE!\n",
      "\tChecking to see if heroku is logged in...DONE!\n",
      "\n",
      "Step 1: Making sure app name 'labresearchnode' is available\n",
      "\t['https://labresearchnode.herokuapp.com/ | https://git.heroku.com/labresearchnode.git\\n']\n",
      "\n",
      "Step 3: Cleaning up heroku/postgres checks...\n",
      "\n",
      "Step 4: cleaning up git...\n",
      "\t\n",
      "Step 5: cloning heroku app code from Github...\n",
      "\t\n",
      "Step 6: copying app code from cloned repo...\n",
      "\t\n",
      "Step 7: removing the rest of the cloned code...\n",
      "\t\n",
      "Step 8: Initializing new github (for Heroku)...\n",
      "\tInitialized empty Git repository in /home/ionesio/workspace/notebooks/PyGrid/examples/tmp/.git/\n",
      "\t\n",
      "Step 9: Adding files to heroku github...\n",
      "\t\n",
      "Step 10: Committing files to heroku github...\n",
      "\t[master (root-commit) 7439262] init\n",
      "\t 15 files changed, 1357 insertions(+)\n",
      "\t create mode 100644 Dockerfile\n",
      "\t create mode 100644 LICENSE\n",
      "\t create mode 100644 Procfile\n",
      "\t create mode 100644 app/__init__.py\n",
      "\t create mode 100644 app/main/__init__.py\n",
      "\t create mode 100644 app/main/events.py\n",
      "\t create mode 100644 app/main/local_worker_utils.py\n",
      "\t create mode 100644 app/main/model_manager.py\n",
      "\t create mode 100644 app/main/persistence/__init__.py\n",
      "\t create mode 100644 app/main/persistence/models.py\n",
      "\t create mode 100644 app/main/persistence/utils.py\n",
      "\t create mode 100644 app/main/routes.py\n",
      "\t create mode 100644 app/templates/index.html\n",
      "\t create mode 100644 requirements.txt\n",
      "\t create mode 100644 websocket_app.py\n",
      "\t\n",
      "\n",
      "Step 11: Pushing code to Heroku (this can take take a few seconds)......\n",
      "\thttps://labresearchnode.herokuapp.com/ | https://git.heroku.com/labresearchnode.git\n",
      "\t\n",
      "Step 12: Creating Postgres database... (this can take a few seconds)...\n",
      "\tDatabase has been created and is available\n",
      "\t ! This database is empty. If upgrading, you can transfer\n",
      "\t ! data from another database with pg:copy\n",
      "\tCreated postgresql-contoured-45430 as DATABASE_URL\n",
      "\tUse heroku addons:docs heroku-postgresql to view documentation\n",
      "\t\n",
      "Setting environment variable: ...\n",
      "\tID: labresearchnode\n",
      "\t\n",
      "Setting environment variable: ...\n",
      "\tGRID_NETWORK_URL: http://opengridgateway.herokuapp.com\n",
      "\t\n",
      "Setting environment variable: ...\n",
      "\tADDRESS: http://labresearchnode.herokuapp.com/\n",
      "\t\n",
      "Step 13: Pushing code to Heroku (this can take take a few minutes - if you're running this in a Jupyter Notebook you can watch progress in the notebook server terminal)......\n",
      "\t\n",
      "Step 14: Cleaning up!...\n",
      "\t\n",
      "SUCCESS: You can now connect to your app at https://labresearchnode.herokuapp.com\n",
      "Step 0: Checking Dependencies\n",
      "\tChecking for git dependency...DONE!\n",
      "\tChecking for heroku --version dependency...DONE!\n",
      "\tChecking for pip dependency...DONE!\n",
      "\tChecking to see if heroku is logged in...DONE!\n",
      "\n",
      "Step 1: Making sure app name 'hospitalnode' is available\n",
      "\t['https://hospitalnode.herokuapp.com/ | https://git.heroku.com/hospitalnode.git\\n']\n",
      "\n",
      "Step 3: Cleaning up heroku/postgres checks...\n",
      "\n",
      "Step 4: cleaning up git...\n",
      "\t\n",
      "Step 5: cloning heroku app code from Github...\n",
      "\t\n",
      "Step 6: copying app code from cloned repo...\n",
      "\t\n",
      "Step 7: removing the rest of the cloned code...\n",
      "\t\n",
      "Step 8: Initializing new github (for Heroku)...\n",
      "\tInitialized empty Git repository in /home/ionesio/workspace/notebooks/PyGrid/examples/tmp/.git/\n",
      "\t\n",
      "Step 9: Adding files to heroku github...\n",
      "\t\n",
      "Step 10: Committing files to heroku github...\n",
      "\t[master (root-commit) 67583e5] init\n",
      "\t 15 files changed, 1357 insertions(+)\n",
      "\t create mode 100644 Dockerfile\n",
      "\t create mode 100644 LICENSE\n",
      "\t create mode 100644 Procfile\n",
      "\t create mode 100644 app/__init__.py\n",
      "\t create mode 100644 app/main/__init__.py\n",
      "\t create mode 100644 app/main/events.py\n",
      "\t create mode 100644 app/main/local_worker_utils.py\n",
      "\t create mode 100644 app/main/model_manager.py\n",
      "\t create mode 100644 app/main/persistence/__init__.py\n",
      "\t create mode 100644 app/main/persistence/models.py\n",
      "\t create mode 100644 app/main/persistence/utils.py\n",
      "\t create mode 100644 app/main/routes.py\n",
      "\t create mode 100644 app/templates/index.html\n",
      "\t create mode 100644 requirements.txt\n",
      "\t create mode 100644 websocket_app.py\n",
      "\t\n",
      "\n",
      "Step 11: Pushing code to Heroku (this can take take a few seconds)......\n",
      "\thttps://hospitalnode.herokuapp.com/ | https://git.heroku.com/hospitalnode.git\n",
      "\t\n",
      "Step 12: Creating Postgres database... (this can take a few seconds)...\n",
      "\tDatabase has been created and is available\n",
      "\t ! This database is empty. If upgrading, you can transfer\n",
      "\t ! data from another database with pg:copy\n",
      "\tCreated postgresql-deep-05839 as DATABASE_URL\n",
      "\tUse heroku addons:docs heroku-postgresql to view documentation\n",
      "\t\n",
      "Setting environment variable: ...\n",
      "\tID: hospitalnode\n",
      "\t\n",
      "Setting environment variable: ...\n",
      "\tGRID_NETWORK_URL: http://opengridgateway.herokuapp.com\n",
      "\t\n",
      "Setting environment variable: ...\n",
      "\tADDRESS: http://hospitalnode.herokuapp.com/\n",
      "\t\n",
      "Step 13: Pushing code to Heroku (this can take take a few minutes - if you're running this in a Jupyter Notebook you can watch progress in the notebook server terminal)......\n",
      "\t\n",
      "Step 14: Cleaning up!...\n",
      "\t\n",
      "SUCCESS: You can now connect to your app at https://hospitalnode.herokuapp.com\n",
      "Step 0: Checking Dependencies\n",
      "\tChecking for git dependency...DONE!\n",
      "\tChecking for heroku --version dependency...DONE!\n",
      "\tChecking for pip dependency...DONE!\n",
      "\tChecking to see if heroku is logged in...DONE!\n",
      "\n",
      "Step 1: Making sure app name 'aicompanynode' is available\n",
      "\t['https://aicompanynode.herokuapp.com/ | https://git.heroku.com/aicompanynode.git\\n']\n",
      "\n",
      "Step 3: Cleaning up heroku/postgres checks...\n",
      "\n",
      "Step 4: cleaning up git...\n",
      "\t\n",
      "Step 5: cloning heroku app code from Github...\n",
      "\t\n",
      "Step 6: copying app code from cloned repo...\n",
      "\t\n",
      "Step 7: removing the rest of the cloned code...\n",
      "\t\n",
      "Step 8: Initializing new github (for Heroku)...\n",
      "\tInitialized empty Git repository in /home/ionesio/workspace/notebooks/PyGrid/examples/tmp/.git/\n",
      "\t\n",
      "Step 9: Adding files to heroku github...\n",
      "\t\n",
      "Step 10: Committing files to heroku github...\n",
      "\t[master (root-commit) 5a8c65d] init\n",
      "\t 15 files changed, 1357 insertions(+)\n",
      "\t create mode 100644 Dockerfile\n",
      "\t create mode 100644 LICENSE\n",
      "\t create mode 100644 Procfile\n",
      "\t create mode 100644 app/__init__.py\n",
      "\t create mode 100644 app/main/__init__.py\n",
      "\t create mode 100644 app/main/events.py\n",
      "\t create mode 100644 app/main/local_worker_utils.py\n",
      "\t create mode 100644 app/main/model_manager.py\n",
      "\t create mode 100644 app/main/persistence/__init__.py\n",
      "\t create mode 100644 app/main/persistence/models.py\n",
      "\t create mode 100644 app/main/persistence/utils.py\n",
      "\t create mode 100644 app/main/routes.py\n",
      "\t create mode 100644 app/templates/index.html\n",
      "\t create mode 100644 requirements.txt\n",
      "\t create mode 100644 websocket_app.py\n",
      "\t\n",
      "\n",
      "Step 11: Pushing code to Heroku (this can take take a few seconds)......\n",
      "\thttps://aicompanynode.herokuapp.com/ | https://git.heroku.com/aicompanynode.git\n",
      "\t\n",
      "Step 12: Creating Postgres database... (this can take a few seconds)...\n",
      "\tDatabase has been created and is available\n",
      "\t ! This database is empty. If upgrading, you can transfer\n",
      "\t ! data from another database with pg:copy\n",
      "\tCreated postgresql-perpendicular-29530 as DATABASE_URL\n",
      "\tUse heroku addons:docs heroku-postgresql to view documentation\n",
      "\t\n",
      "Setting environment variable: ...\n",
      "\tID: aicompanynode\n",
      "\t\n",
      "Setting environment variable: ...\n",
      "\tGRID_NETWORK_URL: http://opengridgateway.herokuapp.com\n",
      "\t\n",
      "Setting environment variable: ...\n",
      "\tADDRESS: http://aicompanynode.herokuapp.com/\n",
      "\t\n",
      "Step 13: Pushing code to Heroku (this can take take a few minutes - if you're running this in a Jupyter Notebook you can watch progress in the notebook server terminal)......\n",
      "\t\n",
      "Step 14: Cleaning up!...\n",
      "\t\n",
      "SUCCESS: You can now connect to your app at https://aicompanynode.herokuapp.com\n"
     ]
    }
   ],
   "source": [
    "ids = { \"aicompanynode\", \"labresearchnode\", \"hospitalnode\"}\n",
    "\n",
    "for node_id in ids:\n",
    "    environment = {\n",
    "        \"ID\": node_id,\n",
    "        \"GRID_NETWORK_URL\": \"http://{}.herokuapp.com\".format(gateway_url_field),\n",
    "        \"ADDRESS\": \"http://{}.herokuapp.com/\".format(node_id)\n",
    "    }\n",
    "    node_component = HerokuNodeDeployment(node_id, env_vars=environment)\n",
    "    node_component.deploy()"
   ]
  },
  {
   "cell_type": "markdown",
   "metadata": {},
   "source": [
    "### Step 6: Start communication with the Grid Gateway and workers\n",
    "\n",
    "Let's start communication with the Gateway and the workers."
   ]
  },
  {
   "cell_type": "code",
   "execution_count": 5,
   "metadata": {},
   "outputs": [],
   "source": [
    "gateway_url = \"http://{}.herokuapp.com\".format(gateway_url_field)\n",
    "\n",
    "my_grid = gr.GridNetwork(gateway_url)"
   ]
  },
  {
   "cell_type": "code",
   "execution_count": 13,
   "metadata": {},
   "outputs": [],
   "source": [
    "# Build Model\n",
    "class Net(sy.Plan):\n",
    "    def __init__(self):\n",
    "        super(Net, self).__init__()\n",
    "        self.fc1 = th.nn.Linear(2, 1)\n",
    "        self.bias = th.tensor([1000.0])\n",
    "        self.state += [\"fc1\", \"bias\"]\n",
    "\n",
    "    def forward(self, x):\n",
    "        x = self.fc1(x)\n",
    "        return F.log_softmax(x, dim=0) + self.bias\n",
    "\n",
    "model = Net()\n",
    "model.build(th.tensor([1.0, 2]))\n"
   ]
  },
  {
   "cell_type": "code",
   "execution_count": 14,
   "metadata": {},
   "outputs": [
    {
     "name": "stdout",
     "output_type": "stream",
     "text": [
      "WARNING: Grid nodes publish datasets online and are for EXPERIMENTAL use only.Deploy nodes at your own risk. Do not use OpenGrid with any data/models you wish to keep private.\n",
      "\n"
     ]
    }
   ],
   "source": [
    "my_grid.serve_model(model, model_id=\"simple_model\",allow_remote_inference=True, allow_download=False)"
   ]
  },
  {
   "cell_type": "code",
   "execution_count": 19,
   "metadata": {},
   "outputs": [
    {
     "data": {
      "text/plain": [
       "tensor([1000.])"
      ]
     },
     "execution_count": 19,
     "metadata": {},
     "output_type": "execute_result"
    }
   ],
   "source": [
    "my_grid.run_remote_inference(model_id=\"simple_model\", data=th.tensor([1.0, 2]))"
   ]
  },
  {
   "cell_type": "code",
   "execution_count": 6,
   "metadata": {},
   "outputs": [
    {
     "name": "stdout",
     "output_type": "stream",
     "text": [
      "WARNING: Grid nodes publish datasets online and are for EXPERIMENTAL use only.Deploy nodes at your own risk. Do not use OpenGrid with any data/models you wish to keep private.\n",
      "\n",
      "This model was hosted at:  aicompanynode\n"
     ]
    }
   ],
   "source": [
    "worker = my_grid.query_model(model_id=\"simple_model\")\n",
    "print(\"This model was hosted at: \", worker.id)"
   ]
  }
 ],
 "metadata": {
  "kernelspec": {
   "display_name": "Python 3",
   "language": "python",
   "name": "python3"
  },
  "language_info": {
   "codemirror_mode": {
    "name": "ipython",
    "version": 3
   },
   "file_extension": ".py",
   "mimetype": "text/x-python",
   "name": "python",
   "nbconvert_exporter": "python",
   "pygments_lexer": "ipython3",
   "version": "3.6.1"
  }
 },
 "nbformat": 4,
 "nbformat_minor": 2
}
