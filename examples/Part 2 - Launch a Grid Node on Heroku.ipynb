{
 "cells": [
  {
   "cell_type": "markdown",
   "metadata": {},
   "source": [
    "# Part 2: Launch an OpenGrid Node On Heroku\n",
    "\n",
    "OpenGrid (or \"Grid\") is the platform library supporting the deployment of libraries for privacy-preserving artificial intelligence. In this tutorial, you'll learn how to deploy a grid node onto Heroku and then interact with it using PySyft.\n",
    "\n",
    "_WARNING: Grid nodes publish datasets online and are for EXPERIMENTAL use only. Deploy nodes at your own risk. Do not use OpenGrid with any data/models you wish to keep private._\n",
    "\n",
    "### Step 1: Setup an account on Heroku.\n",
    "\n",
    "Go to http://heroku.com and setup a username and password.\n",
    "\n",
    "### Step 2: Verify your Heroku Account\n",
    "\n",
    "So while this tutorial will exclusively use FREE nodes, Heroku still requires you to enter in a credit card in order to spin up Redis databases (which we'll need to do). You can do that at https://heroku.com/verify\n",
    "\n",
    "### Step 3: Install Dependencies\n",
    "\n",
    "You'll need to have the following dependencies installed:\n",
    "\n",
    "- Heroku Toolbelt: https://toolbelt.heroku.com/\n",
    "- Pip: https://www.makeuseof.com/tag/install-pip-for-python/\n",
    "- Git: https://gist.github.com/derhuerst/1b15ff4652a867391f03\n",
    "- PySyft: https://github.com/OpenMined/PySyft\n",
    "- Grid: https://github.com/OpenMined/PyGrid\n",
    "\n",
    "### Step 4: Login to Heroku\n",
    "\n",
    "Run \"heroku login\" from the command line and follow the instructions.\n",
    "\n",
    "### Step 5: Import Torch, PySyft, and Grid\n",
    "\n",
    "Now we can import the dependencies we need."
   ]
  },
  {
   "cell_type": "code",
   "execution_count": 1,
   "metadata": {},
   "outputs": [],
   "source": [
    "import syft as sy\n",
    "import torch as th\n",
    "import grid as gr\n",
    "from grid.deploy import HerokuNodeDeployment\n",
    "hook = sy.TorchHook(th)"
   ]
  },
  {
   "cell_type": "code",
   "execution_count": 2,
   "metadata": {},
   "outputs": [],
   "source": [
    "worker_id = \"openmined-trask\"\n",
    "\n",
    "environment = {\n",
    "    \"ID\": worker_id,\n",
    "    \"GRID_NETWORK_URL\": \"http://opengridnetwork.herokuapp.com\",\n",
    "    \"ADDRESS\": \"http://{}.herokuapp.com/\".format(worker_id)\n",
    "}\n",
    "\n",
    "node_component = HerokuNodeDeployment(worker_id, env_vars=environment)"
   ]
  },
  {
   "cell_type": "markdown",
   "metadata": {},
   "source": [
    "### Step 6: Launch and Connect to a Worker\n",
    "\n",
    "Then you can run the code below - this will run various scripts to launch a node on heroku and then connect to it. If the script errors, just follow the instructions to correct the error and re-run it."
   ]
  },
  {
   "cell_type": "code",
   "execution_count": 3,
   "metadata": {},
   "outputs": [
    {
     "name": "stdout",
     "output_type": "stream",
     "text": [
      "Step 0: Checking Dependencies\n",
      "\tChecking for git dependency...DONE!\n",
      "\tChecking for heroku --version dependency...DONE!\n",
      "\tChecking for pip dependency...DONE!\n",
      "\tChecking to see if heroku is logged in...DONE!\n",
      "\n",
      "Step 1: Making sure app name 'openmined-trask' is available\n",
      "\t['https://openmined-trask.herokuapp.com/ | https://git.heroku.com/openmined-trask.git\\n']\n",
      "\n",
      "Step 3: Cleaning up heroku/postgres checks...\n",
      "\n",
      "Step 4: cleaning up git...\n",
      "\t\n",
      "Step 5: cloning heroku app code from Github...\n",
      "\t\n",
      "Step 6: copying app code from cloned repo...\n",
      "\t\n",
      "Step 7: removing the rest of the cloned code...\n",
      "\t\n",
      "Step 8: Initializing new github (for Heroku)...\n",
      "\tInitialized empty Git repository in /Users/atrask/Laboratory/openmined/PyGrid/examples/tmp/.git/\n",
      "\t\n",
      "Step 9: Adding files to heroku github...\n",
      "\t\n",
      "Step 10: Committing files to heroku github...\n",
      "\t[master (root-commit) 3f662be] init\n",
      "\t 31 files changed, 2221 insertions(+)\n",
      "\t create mode 100644 Dockerfile\n",
      "\t create mode 100644 LICENSE\n",
      "\t create mode 100644 Procfile\n",
      "\t create mode 100644 README.md\n",
      "\t create mode 100644 app/__init__.py\n",
      "\t create mode 100644 app/main/__init__.py\n",
      "\t create mode 100644 app/main/auth/__init__.py\n",
      "\t create mode 100644 app/main/auth/session_repository.py\n",
      "\t create mode 100644 app/main/auth/user_session.py\n",
      "\t create mode 100644 app/main/events/__init__.py\n",
      "\t create mode 100644 app/main/events/control_events.py\n",
      "\t create mode 100644 app/main/events/model_events.py\n",
      "\t create mode 100644 app/main/events/syft_events.py\n",
      "\t create mode 100644 app/main/persistence/__init__.py\n",
      "\t create mode 100644 app/main/persistence/model_manager.py\n",
      "\t create mode 100644 app/main/persistence/models.py\n",
      "\t create mode 100644 app/main/persistence/utils.py\n",
      "\t create mode 100644 app/main/routes.py\n",
      "\t create mode 100644 app/static/css/template.css\n",
      "\t create mode 100644 app/static/favicon.ico\n",
      "\t create mode 100644 app/static/images/background-gradient.bd2e1d32.svg\n",
      "\t create mode 100644 app/static/images/grid-white.01b839c4.svg\n",
      "\t create mode 100644 app/static/images/grid.01b839c4.svg\n",
      "\t create mode 100644 app/static/images/mine.63c4a4b6.svg\n",
      "\t create mode 100644 app/static/images/torch.logo.svg\n",
      "\t create mode 100644 app/static/js/main.js\n",
      "\t create mode 100644 app/templates/index.html\n",
      "\t create mode 100644 entrypoint.sh\n",
      "\t create mode 100644 requirements.txt\n",
      "\t create mode 100644 runtime.txt\n",
      "\t create mode 100644 websocket_app.py\n",
      "\t\n",
      "\n",
      "Step 11: Pushing code to Heroku (this can take take a few seconds)......\n",
      "\thttps://openmined-trask.herokuapp.com/ | https://git.heroku.com/openmined-trask.git\n",
      "\t\n",
      "Step 12: Creating Postgres database... (this can take a few seconds)...\n",
      "\tDatabase has been created and is available\n",
      "\t ! This database is empty. If upgrading, you can transfer\n",
      "\t ! data from another database with pg:copy\n",
      "\tCreated postgresql-infinite-30384 as DATABASE_URL\n",
      "\tUse heroku addons:docs heroku-postgresql to view documentation\n",
      "\t\n",
      "Setting environment variable: ...\n",
      "\tID: openmined-trask\n",
      "\t\n",
      "Setting environment variable: ...\n",
      "\tGRID_NETWORK_URL: http://opengridnetwork.herokuapp.com\n",
      "\t\n",
      "Setting environment variable: ...\n",
      "\tADDRESS: http://openmined-trask.herokuapp.com/\n",
      "\t\n",
      "Step 13: Pushing code to Heroku (this can take take a few minutes - if you're running this in a Jupyter Notebook you can watch progress in the notebook server terminal)......\n",
      "\t\n",
      "Step 14: Cleaning up!...\n",
      "\t\n",
      "SUCCESS: You can now connect to your app at https://openmined-trask.herokuapp.com\n"
     ]
    },
    {
     "data": {
      "text/plain": [
       "'https://openmined-trask.herokuapp.com'"
      ]
     },
     "execution_count": 3,
     "metadata": {},
     "output_type": "execute_result"
    }
   ],
   "source": [
    "node_component.deploy()"
   ]
  },
  {
   "cell_type": "code",
   "execution_count": 6,
   "metadata": {},
   "outputs": [
    {
     "ename": "ValueError",
     "evalue": "scheme http is invalid",
     "output_type": "error",
     "traceback": [
      "\u001b[0;31m---------------------------------------------------------------------------\u001b[0m",
      "\u001b[0;31mValueError\u001b[0m                                Traceback (most recent call last)",
      "\u001b[0;32m<ipython-input-6-50b5d198762c>\u001b[0m in \u001b[0;36m<module>\u001b[0;34m()\u001b[0m\n\u001b[0;32m----> 1\u001b[0;31m \u001b[0mworker\u001b[0m \u001b[0;34m=\u001b[0m \u001b[0mgr\u001b[0m\u001b[0;34m.\u001b[0m\u001b[0mWebsocketGridClient\u001b[0m\u001b[0;34m(\u001b[0m\u001b[0mhook\u001b[0m\u001b[0;34m,\u001b[0m \u001b[0;34m\"http://\"\u001b[0m\u001b[0;34m+\u001b[0m\u001b[0mworker_id\u001b[0m\u001b[0;34m+\u001b[0m\u001b[0;34m\".herokuapp.com/\"\u001b[0m\u001b[0;34m,\u001b[0m\u001b[0mid\u001b[0m\u001b[0;34m=\u001b[0m\u001b[0mworker_id\u001b[0m\u001b[0;34m)\u001b[0m\u001b[0;34m\u001b[0m\u001b[0m\n\u001b[0m\u001b[1;32m      2\u001b[0m \u001b[0mworker\u001b[0m\u001b[0;34m.\u001b[0m\u001b[0mconnect\u001b[0m\u001b[0;34m(\u001b[0m\u001b[0;34m)\u001b[0m\u001b[0;34m\u001b[0m\u001b[0m\n",
      "\u001b[0;32m/Users/atrask/anaconda/lib/python3.6/site-packages/grid/websocket_client.py\u001b[0m in \u001b[0;36m__init__\u001b[0;34m(self, hook, address, id, auth, is_client_worker, log_msgs, verbose, chunk_size)\u001b[0m\n\u001b[1;32m     78\u001b[0m             \u001b[0mlog_msgs\u001b[0m\u001b[0;34m,\u001b[0m\u001b[0;34m\u001b[0m\u001b[0m\n\u001b[1;32m     79\u001b[0m             \u001b[0mverbose\u001b[0m\u001b[0;34m,\u001b[0m\u001b[0;34m\u001b[0m\u001b[0m\n\u001b[0;32m---> 80\u001b[0;31m             \u001b[0;32mNone\u001b[0m\u001b[0;34m,\u001b[0m  \u001b[0;31m# initial data\u001b[0m\u001b[0;34m\u001b[0m\u001b[0m\n\u001b[0m\u001b[1;32m     81\u001b[0m         )\n\u001b[1;32m     82\u001b[0m \u001b[0;34m\u001b[0m\u001b[0m\n",
      "\u001b[0;32m/Users/atrask/anaconda/lib/python3.6/site-packages/syft-0.2.1a1-py3.6.egg/syft/workers/websocket_client.py\u001b[0m in \u001b[0;36m__init__\u001b[0;34m(self, hook, host, port, secure, id, is_client_worker, log_msgs, verbose, data)\u001b[0m\n\u001b[1;32m     55\u001b[0m         \u001b[0mself\u001b[0m\u001b[0;34m.\u001b[0m\u001b[0msecure\u001b[0m \u001b[0;34m=\u001b[0m \u001b[0msecure\u001b[0m\u001b[0;34m\u001b[0m\u001b[0m\n\u001b[1;32m     56\u001b[0m         \u001b[0mself\u001b[0m\u001b[0;34m.\u001b[0m\u001b[0mws\u001b[0m \u001b[0;34m=\u001b[0m \u001b[0;32mNone\u001b[0m\u001b[0;34m\u001b[0m\u001b[0m\n\u001b[0;32m---> 57\u001b[0;31m         \u001b[0mself\u001b[0m\u001b[0;34m.\u001b[0m\u001b[0mconnect\u001b[0m\u001b[0;34m(\u001b[0m\u001b[0;34m)\u001b[0m\u001b[0;34m\u001b[0m\u001b[0m\n\u001b[0m\u001b[1;32m     58\u001b[0m \u001b[0;34m\u001b[0m\u001b[0m\n\u001b[1;32m     59\u001b[0m     \u001b[0;34m@\u001b[0m\u001b[0mproperty\u001b[0m\u001b[0;34m\u001b[0m\u001b[0m\n",
      "\u001b[0;32m/Users/atrask/anaconda/lib/python3.6/site-packages/syft-0.2.1a1-py3.6.egg/syft/workers/websocket_client.py\u001b[0m in \u001b[0;36mconnect\u001b[0;34m(self)\u001b[0m\n\u001b[1;32m     67\u001b[0m             \u001b[0margs\u001b[0m\u001b[0;34m[\u001b[0m\u001b[0;34m\"sslopt\"\u001b[0m\u001b[0;34m]\u001b[0m \u001b[0;34m=\u001b[0m \u001b[0;34m{\u001b[0m\u001b[0;34m\"cert_reqs\"\u001b[0m\u001b[0;34m:\u001b[0m \u001b[0mssl\u001b[0m\u001b[0;34m.\u001b[0m\u001b[0mCERT_NONE\u001b[0m\u001b[0;34m}\u001b[0m\u001b[0;34m\u001b[0m\u001b[0m\n\u001b[1;32m     68\u001b[0m \u001b[0;34m\u001b[0m\u001b[0m\n\u001b[0;32m---> 69\u001b[0;31m         \u001b[0mself\u001b[0m\u001b[0;34m.\u001b[0m\u001b[0mws\u001b[0m \u001b[0;34m=\u001b[0m \u001b[0mwebsocket\u001b[0m\u001b[0;34m.\u001b[0m\u001b[0mcreate_connection\u001b[0m\u001b[0;34m(\u001b[0m\u001b[0;34m**\u001b[0m\u001b[0margs\u001b[0m\u001b[0;34m)\u001b[0m\u001b[0;34m\u001b[0m\u001b[0m\n\u001b[0m\u001b[1;32m     70\u001b[0m \u001b[0;34m\u001b[0m\u001b[0m\n\u001b[1;32m     71\u001b[0m     \u001b[0;32mdef\u001b[0m \u001b[0mclose\u001b[0m\u001b[0;34m(\u001b[0m\u001b[0mself\u001b[0m\u001b[0;34m)\u001b[0m\u001b[0;34m:\u001b[0m\u001b[0;34m\u001b[0m\u001b[0m\n",
      "\u001b[0;32m/Users/atrask/anaconda/lib/python3.6/site-packages/websocket/_core.py\u001b[0m in \u001b[0;36mcreate_connection\u001b[0;34m(url, timeout, class_, **options)\u001b[0m\n\u001b[1;32m    512\u001b[0m                      skip_utf8_validation=skip_utf8_validation, **options)\n\u001b[1;32m    513\u001b[0m     \u001b[0mwebsock\u001b[0m\u001b[0;34m.\u001b[0m\u001b[0msettimeout\u001b[0m\u001b[0;34m(\u001b[0m\u001b[0mtimeout\u001b[0m \u001b[0;32mif\u001b[0m \u001b[0mtimeout\u001b[0m \u001b[0;32mis\u001b[0m \u001b[0;32mnot\u001b[0m \u001b[0;32mNone\u001b[0m \u001b[0;32melse\u001b[0m \u001b[0mgetdefaulttimeout\u001b[0m\u001b[0;34m(\u001b[0m\u001b[0;34m)\u001b[0m\u001b[0;34m)\u001b[0m\u001b[0;34m\u001b[0m\u001b[0m\n\u001b[0;32m--> 514\u001b[0;31m     \u001b[0mwebsock\u001b[0m\u001b[0;34m.\u001b[0m\u001b[0mconnect\u001b[0m\u001b[0;34m(\u001b[0m\u001b[0murl\u001b[0m\u001b[0;34m,\u001b[0m \u001b[0;34m**\u001b[0m\u001b[0moptions\u001b[0m\u001b[0;34m)\u001b[0m\u001b[0;34m\u001b[0m\u001b[0m\n\u001b[0m\u001b[1;32m    515\u001b[0m     \u001b[0;32mreturn\u001b[0m \u001b[0mwebsock\u001b[0m\u001b[0;34m\u001b[0m\u001b[0m\n",
      "\u001b[0;32m/Users/atrask/anaconda/lib/python3.6/site-packages/websocket/_core.py\u001b[0m in \u001b[0;36mconnect\u001b[0;34m(self, url, **options)\u001b[0m\n\u001b[1;32m    221\u001b[0m         \u001b[0mself\u001b[0m\u001b[0;34m.\u001b[0m\u001b[0msock_opt\u001b[0m\u001b[0;34m.\u001b[0m\u001b[0mtimeout\u001b[0m \u001b[0;34m=\u001b[0m \u001b[0moptions\u001b[0m\u001b[0;34m.\u001b[0m\u001b[0mget\u001b[0m\u001b[0;34m(\u001b[0m\u001b[0;34m'timeout'\u001b[0m\u001b[0;34m,\u001b[0m \u001b[0mself\u001b[0m\u001b[0;34m.\u001b[0m\u001b[0msock_opt\u001b[0m\u001b[0;34m.\u001b[0m\u001b[0mtimeout\u001b[0m\u001b[0;34m)\u001b[0m\u001b[0;34m\u001b[0m\u001b[0m\n\u001b[1;32m    222\u001b[0m         self.sock, addrs = connect(url, self.sock_opt, proxy_info(**options),\n\u001b[0;32m--> 223\u001b[0;31m                                    options.pop('socket', None))\n\u001b[0m\u001b[1;32m    224\u001b[0m \u001b[0;34m\u001b[0m\u001b[0m\n\u001b[1;32m    225\u001b[0m         \u001b[0;32mtry\u001b[0m\u001b[0;34m:\u001b[0m\u001b[0;34m\u001b[0m\u001b[0m\n",
      "\u001b[0;32m/Users/atrask/anaconda/lib/python3.6/site-packages/websocket/_http.py\u001b[0m in \u001b[0;36mconnect\u001b[0;34m(url, options, proxy, socket)\u001b[0m\n\u001b[1;32m    105\u001b[0m         \u001b[0;32mreturn\u001b[0m \u001b[0m_open_proxied_socket\u001b[0m\u001b[0;34m(\u001b[0m\u001b[0murl\u001b[0m\u001b[0;34m,\u001b[0m \u001b[0moptions\u001b[0m\u001b[0;34m,\u001b[0m \u001b[0mproxy\u001b[0m\u001b[0;34m)\u001b[0m\u001b[0;34m\u001b[0m\u001b[0m\n\u001b[1;32m    106\u001b[0m \u001b[0;34m\u001b[0m\u001b[0m\n\u001b[0;32m--> 107\u001b[0;31m     \u001b[0mhostname\u001b[0m\u001b[0;34m,\u001b[0m \u001b[0mport\u001b[0m\u001b[0;34m,\u001b[0m \u001b[0mresource\u001b[0m\u001b[0;34m,\u001b[0m \u001b[0mis_secure\u001b[0m \u001b[0;34m=\u001b[0m \u001b[0mparse_url\u001b[0m\u001b[0;34m(\u001b[0m\u001b[0murl\u001b[0m\u001b[0;34m)\u001b[0m\u001b[0;34m\u001b[0m\u001b[0m\n\u001b[0m\u001b[1;32m    108\u001b[0m \u001b[0;34m\u001b[0m\u001b[0m\n\u001b[1;32m    109\u001b[0m     \u001b[0;32mif\u001b[0m \u001b[0msocket\u001b[0m\u001b[0;34m:\u001b[0m\u001b[0;34m\u001b[0m\u001b[0m\n",
      "\u001b[0;32m/Users/atrask/anaconda/lib/python3.6/site-packages/websocket/_url.py\u001b[0m in \u001b[0;36mparse_url\u001b[0;34m(url)\u001b[0m\n\u001b[1;32m     61\u001b[0m             \u001b[0mport\u001b[0m \u001b[0;34m=\u001b[0m \u001b[0;36m443\u001b[0m\u001b[0;34m\u001b[0m\u001b[0m\n\u001b[1;32m     62\u001b[0m     \u001b[0;32melse\u001b[0m\u001b[0;34m:\u001b[0m\u001b[0;34m\u001b[0m\u001b[0m\n\u001b[0;32m---> 63\u001b[0;31m         \u001b[0;32mraise\u001b[0m \u001b[0mValueError\u001b[0m\u001b[0;34m(\u001b[0m\u001b[0;34m\"scheme %s is invalid\"\u001b[0m \u001b[0;34m%\u001b[0m \u001b[0mscheme\u001b[0m\u001b[0;34m)\u001b[0m\u001b[0;34m\u001b[0m\u001b[0m\n\u001b[0m\u001b[1;32m     64\u001b[0m \u001b[0;34m\u001b[0m\u001b[0m\n\u001b[1;32m     65\u001b[0m     \u001b[0;32mif\u001b[0m \u001b[0mparsed\u001b[0m\u001b[0;34m.\u001b[0m\u001b[0mpath\u001b[0m\u001b[0;34m:\u001b[0m\u001b[0;34m\u001b[0m\u001b[0m\n",
      "\u001b[0;31mValueError\u001b[0m: scheme http is invalid"
     ]
    }
   ],
   "source": [
    "worker = gr.WebsocketGridClient(hook, \"http://\"+worker_id+\".herokuapp.com/\",id=worker_id)\n",
    "worker.connect()"
   ]
  },
  {
   "cell_type": "markdown",
   "metadata": {},
   "source": [
    "### Step 7: Use PySyft Like Normal\n",
    "\n",
    "Now you can simply use the worker you created like you would any other normal PySyft worker. For more on how PySyft works, please see the PySyft tutorials: https://github.com/OpenMined/PySyft/tree/dev/examples/tutorials"
   ]
  },
  {
   "cell_type": "code",
   "execution_count": 5,
   "metadata": {},
   "outputs": [
    {
     "data": {
      "text/plain": [
       "(Wrapper)>[PointerTensor | me:30676586385 -> aicompanynode:74441185726]"
      ]
     },
     "execution_count": 5,
     "metadata": {},
     "output_type": "execute_result"
    }
   ],
   "source": [
    "x = th.tensor([1,2,3,4]).send(worker)\n",
    "x"
   ]
  },
  {
   "cell_type": "code",
   "execution_count": 6,
   "metadata": {},
   "outputs": [
    {
     "data": {
      "text/plain": [
       "(Wrapper)>[PointerTensor | me:10627182361 -> aicompanynode:93458874016]"
      ]
     },
     "execution_count": 6,
     "metadata": {},
     "output_type": "execute_result"
    }
   ],
   "source": [
    "y = x + x\n",
    "y"
   ]
  },
  {
   "cell_type": "code",
   "execution_count": 7,
   "metadata": {},
   "outputs": [
    {
     "data": {
      "text/plain": [
       "tensor([2, 4, 6, 8])"
      ]
     },
     "execution_count": 7,
     "metadata": {},
     "output_type": "execute_result"
    }
   ],
   "source": [
    "y.get()"
   ]
  },
  {
   "cell_type": "markdown",
   "metadata": {},
   "source": [
    "### Step 8: Reconnecting to Same Node\n",
    "\n",
    "If you run the same connect command that you did before, it will just connect to the existing node instead of launching it."
   ]
  },
  {
   "cell_type": "code",
   "execution_count": 8,
   "metadata": {},
   "outputs": [
    {
     "name": "stdout",
     "output_type": "stream",
     "text": [
      "Step 0: Checking Dependencies\n",
      "\tChecking for git dependency...DONE!\n",
      "\tChecking for heroku --version dependency...DONE!\n",
      "\tChecking for pip dependency...DONE!\n",
      "\tChecking to see if heroku is logged in...DONE!\n",
      "\n",
      "Step 1: Making sure app name 'aicompanynode' is available\n",
      "\t[]\n",
      "APP EXISTS: You can already connect to your app at https://aicompanynode.herokuapp.com\n",
      "WARNING: Grid nodes publish datasets online and are for EXPERIMENTAL use only.Deploy nodes at your own risk. Do not use OpenGrid with any data/models you wish to keep private.\n",
      "\n"
     ]
    }
   ],
   "source": [
    "worker.disconnect() # Disconnect from current connection\n",
    "\n",
    "worker = gr.WebsocketGridClient(hook, addr=node_component.deploy(), id=worker_id)\n",
    "worker.connect()"
   ]
  },
  {
   "cell_type": "code",
   "execution_count": 9,
   "metadata": {},
   "outputs": [
    {
     "data": {
      "text/plain": [
       "(Wrapper)>[PointerTensor | me:92246761003 -> aicompanynode:9644570165]"
      ]
     },
     "execution_count": 9,
     "metadata": {},
     "output_type": "execute_result"
    }
   ],
   "source": [
    "x = th.tensor([1,2,3,4]).send(worker)\n",
    "x"
   ]
  },
  {
   "cell_type": "markdown",
   "metadata": {},
   "source": [
    "#### Useful Tip\n",
    "\n",
    "You can set check_deps=False and it'll run a little faster"
   ]
  },
  {
   "cell_type": "code",
   "execution_count": 10,
   "metadata": {},
   "outputs": [
    {
     "name": "stdout",
     "output_type": "stream",
     "text": [
      "\n",
      "Step 1: Making sure app name 'aicompanynode' is available\n",
      "\t[]\n",
      "APP EXISTS: You can already connect to your app at https://aicompanynode.herokuapp.com\n",
      "WARNING: Grid nodes publish datasets online and are for EXPERIMENTAL use only.Deploy nodes at your own risk. Do not use OpenGrid with any data/models you wish to keep private.\n",
      "\n"
     ]
    }
   ],
   "source": [
    "worker.disconnect() # Disconnect from current connection\n",
    "\n",
    "node_component = HerokuNodeDeployment(worker_id, env_vars=environment, check_deps=False)\n",
    "worker = gr.WebsocketGridClient(hook, addr=node_component.deploy(), id=worker_id)\n",
    "worker.connect()"
   ]
  }
 ],
 "metadata": {
  "kernelspec": {
   "display_name": "Python 3",
   "language": "python",
   "name": "python3"
  },
  "language_info": {
   "codemirror_mode": {
    "name": "ipython",
    "version": 3
   },
   "file_extension": ".py",
   "mimetype": "text/x-python",
   "name": "python",
   "nbconvert_exporter": "python",
   "pygments_lexer": "ipython3",
   "version": "3.6.1"
  }
 },
 "nbformat": 4,
 "nbformat_minor": 2
}
